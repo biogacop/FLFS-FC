{
 "cells": [
  {
   "cell_type": "code",
   "execution_count": 1,
   "metadata": {},
   "outputs": [],
   "source": [
    "import cplex\n",
    "import cobra\n",
    "from cobra import Model, Reaction, Metabolite\n",
    "import numpy as np\n",
    "import pickle"
   ]
  },
  {
   "cell_type": "code",
   "execution_count": 2,
   "metadata": {},
   "outputs": [
    {
     "name": "stdout",
     "output_type": "stream",
     "text": [
      "CPU times: user 125 ms, sys: 0 ns, total: 125 ms\n",
      "Wall time: 124 ms\n"
     ]
    }
   ],
   "source": [
    "%%time\n",
    "path=\"./\"\n",
    "modelName=\"EColi.xml\"\n",
    "name=path+modelName\n",
    "model=cobra.io.read_sbml_model(name)"
   ]
  },
  {
   "cell_type": "code",
   "execution_count": 3,
   "metadata": {},
   "outputs": [
    {
     "data": {
      "text/html": [
       "\n",
       "        <table>\n",
       "            <tr>\n",
       "                <td><strong>Name</strong></td>\n",
       "                <td>e_coli_core</td>\n",
       "            </tr><tr>\n",
       "                <td><strong>Memory address</strong></td>\n",
       "                <td>7f958e96ee10</td>\n",
       "            </tr><tr>\n",
       "                <td><strong>Number of metabolites</strong></td>\n",
       "                <td>72</td>\n",
       "            </tr><tr>\n",
       "                <td><strong>Number of reactions</strong></td>\n",
       "                <td>95</td>\n",
       "            </tr><tr>\n",
       "                <td><strong>Number of genes</strong></td>\n",
       "                <td>137</td>\n",
       "            </tr><tr>\n",
       "                <td><strong>Number of groups</strong></td>\n",
       "                <td>0</td>\n",
       "            </tr><tr>\n",
       "                <td><strong>Objective expression</strong></td>\n",
       "                <td>1.0*Biomass_Ecoli_core - 1.0*Biomass_Ecoli_core_reverse_2cdba</td>\n",
       "            </tr><tr>\n",
       "                <td><strong>Compartments</strong></td>\n",
       "                <td>cytosol, extracellular</td>\n",
       "            </tr>\n",
       "          </table>"
      ],
      "text/plain": [
       "<Model e_coli_core at 0x7f958e96ee10>"
      ]
     },
     "execution_count": 3,
     "metadata": {},
     "output_type": "execute_result"
    }
   ],
   "source": [
    "model"
   ]
  },
  {
   "cell_type": "code",
   "execution_count": 5,
   "metadata": {},
   "outputs": [],
   "source": [
    "def decouple(model):\n",
    "    toDecoupled=dict()\n",
    "    toNonDecoupled=dict()\n",
    "    inverse=dict()\n",
    "    error = 10**-12\n",
    "    decoupled=Model(\"Decoupled\")\n",
    "    metabolites=[]\n",
    "    for m in model.metabolites:\n",
    "        mm = Metabolite(m.id,m.name)\n",
    "        mm.compartment=m.compartment\n",
    "        metabolites.append(mm)\n",
    "    decoupled.add_metabolites(metabolites)\n",
    "    reactions=[]\n",
    "    contBase=0\n",
    "    contDecoupled=0\n",
    "    reversibles=set()\n",
    "    irreversibles=set()\n",
    "    for r in model.reactions:\n",
    "        toDecoupled[contBase]=[]\n",
    "        lim_i=r.lower_bound\n",
    "        lim_s=r.upper_bound\n",
    "        \n",
    "        if r.lower_bound<-1000:\n",
    "            r.lower_bound=-1000\n",
    "        if r.upper_bound>1000:\n",
    "            r.upper_bound=1000\n",
    "        model.objective=r\n",
    "        model.objective_direction=\"min\"\n",
    "        minimum=model.slim_optimize()\n",
    "        model.objective_direction=\"max\"\n",
    "        maximum=model.slim_optimize()\n",
    "        r.lower_bound=lim_i\n",
    "        r.upper_bound=lim_s\n",
    "        right= (maximum>error) and (r.upper_bound)>0\n",
    "        left=(minimum<-error) and (r.lower_bound<0)\n",
    "        if abs(minimum)>error or abs(maximum)>error:\n",
    "            if right and left:\n",
    "                reaction1=Reaction(r.id,r.name)\n",
    "                reaction1.lower_bound=0\n",
    "                reaction1.upper_bound=r.upper_bound\n",
    "                for key in r.metabolites.keys():\n",
    "                    reaction1.add_metabolites({\n",
    "                        key: r.metabolites[key],\n",
    "                    })\n",
    "                toNonDecoupled[contDecoupled]=contBase\n",
    "                reversibles.add(contDecoupled)\n",
    "                contDecoupled+=1\n",
    "                \n",
    "                reaction2=Reaction(r.id+\"_rev\",r.name+\"_rev\")\n",
    "                reaction2.lower_bound=0\n",
    "                reaction2.upper_bound=-r.lower_bound\n",
    "                for key in r.metabolites.keys():\n",
    "                    reaction2.add_metabolites({\n",
    "                        key: -r.metabolites[key],\n",
    "                    })\n",
    "                reaction1.gene_reaction_rule=r.gene_reaction_rule\n",
    "                reaction2.gene_reaction_rule=r.gene_reaction_rule\n",
    "                reactions.append(reaction1)\n",
    "                reactions.append(reaction2)\n",
    "                toNonDecoupled[contDecoupled]=contBase\n",
    "                toDecoupled[contBase]=[contDecoupled-1,contDecoupled]\n",
    "                reversibles.add(contDecoupled)\n",
    "                inverse[contDecoupled]=contDecoupled-1\n",
    "                inverse[contDecoupled-1]=contDecoupled\n",
    "                contDecoupled+=1\n",
    "                \n",
    "            if right and not left:\n",
    "                r.lower_bound=0\n",
    "                reactions.append(r)\n",
    "                toNonDecoupled[contDecoupled]=contBase\n",
    "                toDecoupled[contBase]=[contDecoupled]\n",
    "                irreversibles.add(contDecoupled)\n",
    "                contDecoupled+=1\n",
    "        \n",
    "            if left and not right:\n",
    "                reaction=Reaction(r.id+\"_i\",r.name+\"_i\")\n",
    "                reaction.upper_bound=-r.lower_bound\n",
    "                reaction.lower_bound=0\n",
    "                for key in r.metabolites.keys():\n",
    "                    reaction.add_metabolites({\n",
    "                        key: -r.metabolites[key],\n",
    "                    })\n",
    "                reactions.append(reaction)\n",
    "                toNonDecoupled[contDecoupled]=contBase\n",
    "                toDecoupled[contBase]=[contDecoupled]\n",
    "                irreversibles.add(contDecoupled)\n",
    "                contDecoupled+=1\n",
    "        contBase+=1    \n",
    "    decoupled.add_reactions(reactions)\n",
    "    print(\"OK\")\n",
    "    return([decoupled,toDecoupled,toNonDecoupled,reversibles,irreversibles,inverse])"
   ]
  },
  {
   "cell_type": "code",
   "execution_count": 6,
   "metadata": {},
   "outputs": [
    {
     "name": "stdout",
     "output_type": "stream",
     "text": [
      "OK\n",
      "CPU times: user 195 ms, sys: 1.93 ms, total: 197 ms\n",
      "Wall time: 197 ms\n"
     ]
    }
   ],
   "source": [
    "%%time\n",
    "process=decouple(model)\n",
    "model2=process[0]\n",
    "toDecoupled=process[1]\n",
    "toNonDecoupled=process[2]\n",
    "reversibles=process[3]\n",
    "irreversibles=process[4]\n",
    "inverse=process[5]"
   ]
  },
  {
   "cell_type": "code",
   "execution_count": 25,
   "metadata": {},
   "outputs": [],
   "source": [
    "# Index of the reaction 'EX_glc__D_e_i'. This reaction is included in all the EFMs in 'e. coli core'\n",
    "# except for a trivial 2-cycle. This reaction is taken as an additional constraint by using R_mainIndex = 1\n",
    "\n",
    "mainIndex=28 "
   ]
  },
  {
   "cell_type": "code",
   "execution_count": 26,
   "metadata": {},
   "outputs": [],
   "source": [
    "fileName=path+\"toDecoupled.txt\"\n",
    "with open(fileName, 'wb') as filehandle:\n",
    "    pickle.dump(toDecoupled, filehandle)\n",
    "\n",
    "fileName=path+\"toNonDecoupled.txt\"\n",
    "with open(fileName, 'wb') as filehandle:\n",
    "    pickle.dump(toNonDecoupled, filehandle)\n",
    "    \n",
    "fileName=path+\"reversibles.txt\"\n",
    "with open(fileName, 'wb') as filehandle:\n",
    "    pickle.dump(reversibles, filehandle)\n",
    "\n",
    "fileName=path+\"irreversibles.txt\"\n",
    "with open(fileName, 'wb') as filehandle:\n",
    "    pickle.dump(irreversibles, filehandle)\n",
    "    \n",
    "fileName=path+\"inverse.txt\"\n",
    "with open(fileName, 'wb') as filehandle:\n",
    "    pickle.dump(inverse, filehandle)\n",
    "    \n",
    "fileName=path+\"indices.txt\"\n",
    "with open(fileName, 'wb') as filehandle:\n",
    "    pickle.dump([mainIndex,n,m], filehandle)\n",
    "\n"
   ]
  },
  {
   "cell_type": "code",
   "execution_count": 10,
   "metadata": {},
   "outputs": [],
   "source": [
    "A2=cobra.util.array.create_stoichiometric_matrix(model2, array_type=\"dense\", dtype=None)\n",
    "S=A2.copy()\n",
    "AA=[]\n",
    "for i in range(len(A2)):\n",
    "    indices=[]\n",
    "    values=[]\n",
    "    for j in range(len(A2[i])):\n",
    "        if not A2[i][j]==0:\n",
    "            indices.append(j)\n",
    "            values.append(A2[i][j])\n",
    "    AA.append([indices,values])"
   ]
  },
  {
   "cell_type": "code",
   "execution_count": 11,
   "metadata": {},
   "outputs": [],
   "source": [
    "def solving(n,m,f, SDok2, B, method=1,direction=0):\n",
    "    num_decision_var = n\n",
    "    num_constraints = m\n",
    "    myProblem = cplex.Cplex() \n",
    "    myProblem.set_log_stream(None)\n",
    "    myProblem.parameters.lpmethod.set(method)\n",
    "    myProblem.set_error_stream(None)\n",
    "    myProblem.set_warning_stream(None)\n",
    "    myProblem.set_results_stream(None)\n",
    "    myProblem.variables.add(names= [\"x\"+str(i) for i in range(num_decision_var)])\n",
    "    for i in range(num_decision_var):\n",
    "        myProblem.variables.set_lower_bounds(i, 0.0)\n",
    "    \n",
    "    for i in range(num_constraints):\n",
    "        \n",
    "        myProblem.linear_constraints.add(\n",
    "            lin_expr= [cplex.SparsePair(ind= SDok2[i][0], val= SDok2[i][1])],\n",
    "            rhs= [B[i]],\n",
    "            names = [\"c\"+str(i)],\n",
    "            senses = [\"E\"]\n",
    "        )\n",
    "    for i in range(num_decision_var):\n",
    "        myProblem.objective.set_linear([(i, f[i])])\n",
    "    if direction==0:\n",
    "        myProblem.objective.set_sense(myProblem.objective.sense.minimize)\n",
    "    else:\n",
    "        myProblem.objective.set_sense(myProblem.objective.sense.maximize)\n",
    "    myProblem.solve()\n",
    "    status=myProblem.solution.get_status()\n",
    "    if status==1:\n",
    "        return [myProblem.solution.get_values(),myProblem.solution.basis.get_basis(),f]\n",
    "    else:\n",
    "        return [status] "
   ]
  },
  {
   "cell_type": "code",
   "execution_count": 12,
   "metadata": {},
   "outputs": [
    {
     "name": "stdout",
     "output_type": "stream",
     "text": [
      "63 63\n"
     ]
    }
   ],
   "source": [
    "n=len(model2.reactions)\n",
    "A2=[AA[0],AA[1]]\n",
    "for i in range(2,len(AA)):\n",
    "    A3=A2.copy()\n",
    "    A3.append(AA[i])\n",
    "    m=len(A3)\n",
    "    f=np.zeros(n)\n",
    "    B=np.zeros(m)\n",
    "    B[m-1]=1\n",
    "    sol=solving(n,m,f, A3, B)\n",
    "    redundant=True\n",
    "    if len(sol)>1 or not sol[0]==3:\n",
    "        redundant=False\n",
    "    if not redundant:\n",
    "        A2.append(AA[i])\n",
    "\n",
    "print(len(A2),np.linalg.matrix_rank(S))\n",
    "\n",
    "fileName=path+\"A2.txt\"\n",
    "\n",
    "with open(fileName, 'wb') as filehandle:\n",
    "    pickle.dump(A2, filehandle)\n"
   ]
  }
 ],
 "metadata": {
  "kernelspec": {
   "display_name": "Python3.6",
   "language": "python",
   "name": "python3.6"
  },
  "language_info": {
   "codemirror_mode": {
    "name": "ipython",
    "version": 3
   },
   "file_extension": ".py",
   "mimetype": "text/x-python",
   "name": "python",
   "nbconvert_exporter": "python",
   "pygments_lexer": "ipython3",
   "version": "3.6.8"
  }
 },
 "nbformat": 4,
 "nbformat_minor": 4
}
